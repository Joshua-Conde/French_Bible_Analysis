{
 "cells": [
  {
   "cell_type": "code",
   "execution_count": 1,
   "id": "23759303-5154-4eba-802d-7bc886854736",
   "metadata": {},
   "outputs": [],
   "source": [
    "# https://www.biblesupersearch.com/bible-downloads/\n",
    "# La Bible de l'Épée"
   ]
  },
  {
   "cell_type": "code",
   "execution_count": 2,
   "id": "47986086-ad2c-432b-895c-98cce30151de",
   "metadata": {},
   "outputs": [],
   "source": [
    "# !wget --quiet https://raw.githubusercontent.com/tensorflow/models/master/official/nlp/bert/tokenization.py"
   ]
  },
  {
   "cell_type": "code",
   "execution_count": 3,
   "id": "fa427c89-5a5f-4a39-a461-0d8f1bf1185e",
   "metadata": {},
   "outputs": [],
   "source": [
    "# conda install numpy pandas nltk matplotlib seaborn wordcloud scikit-learn tensorflow tensorflow-hub\n",
    "# !pip install tokenization"
   ]
  },
  {
   "cell_type": "code",
   "execution_count": 4,
   "id": "c7be34ee-6545-4479-9051-742b772023da",
   "metadata": {},
   "outputs": [],
   "source": [
    "import numpy as np\n",
    "import pandas as pd\n",
    "import nltk\n",
    "from nltk.stem import PorterStemmer, WordNetLemmatizer\n",
    "from nltk.tokenize import sent_tokenize, word_tokenize\n",
    "from nltk.corpus import stopwords\n",
    "\n",
    "from collections import Counter, defaultdict\n",
    "import tokenization\n",
    "import string\n",
    "\n",
    "import matplotlib as mpl\n",
    "import matplotlib.pyplot as plt\n",
    "import seaborn as sns\n",
    "from wordcloud import WordCloud\n",
    "\n",
    "from sklearn.feature_extraction.text import TfidfVectorizer\n",
    "from sklearn.decomposition import TruncatedSVD\n",
    "from sklearn.model_selection import train_test_split\n",
    "from sklearn.model_selection import StratifiedKFold, StratifiedShuffleSplit\n",
    "from sklearn.metrics import precision_score, recall_score, f1_score, roc_curve, auc\n",
    "\n",
    "import operator\n",
    "\n",
    "import tensorflow as tf\n",
    "import tensorflow_hub as hub\n",
    "from tensorflow import keras\n",
    "from tensorflow.keras.optimizers import SGD, Adam\n",
    "from tensorflow.keras.layers import Dense, Input, Dropout, GlobalAveragePooling1D\n",
    "from tensorflow.keras.models import Model, Sequential\n",
    "from tensorflow.keras.callbacks import ModelCheckpoint, EarlyStopping, Callback\n",
    "\n",
    "import gc"
   ]
  },
  {
   "cell_type": "code",
   "execution_count": null,
   "id": "5ac7658d-3c57-4dc4-87eb-215cf4f73869",
   "metadata": {},
   "outputs": [],
   "source": []
  }
 ],
 "metadata": {
  "kernelspec": {
   "display_name": "French_Bible",
   "language": "python",
   "name": "french_bible"
  },
  "language_info": {
   "codemirror_mode": {
    "name": "ipython",
    "version": 3
   },
   "file_extension": ".py",
   "mimetype": "text/x-python",
   "name": "python",
   "nbconvert_exporter": "python",
   "pygments_lexer": "ipython3",
   "version": "3.9.18"
  }
 },
 "nbformat": 4,
 "nbformat_minor": 5
}
